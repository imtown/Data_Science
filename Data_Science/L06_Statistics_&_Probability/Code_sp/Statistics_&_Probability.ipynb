{
 "cells": [
  {
   "cell_type": "markdown",
   "id": "086f8f98",
   "metadata": {},
   "source": [
    "# Probability\n",
    "- Sample Space\n",
    "- Probability Axioms\n",
    "- Probability Properties\n",
    "- Discrete and Continous"
   ]
  },
  {
   "cell_type": "markdown",
   "id": "01fd209f",
   "metadata": {},
   "source": [
    "## Import Libraries"
   ]
  },
  {
   "cell_type": "code",
   "execution_count": 1,
   "id": "cdff06eb",
   "metadata": {},
   "outputs": [],
   "source": [
    "import numpy as np\n",
    "import pandas as pd\n",
    "import matplotlib.pyplot as plt\n",
    "import seaborn as sns"
   ]
  },
  {
   "cell_type": "markdown",
   "id": "1afe4856",
   "metadata": {},
   "source": [
    "## Sample Probability"
   ]
  },
  {
   "cell_type": "code",
   "execution_count": 2,
   "id": "f4861f3b",
   "metadata": {},
   "outputs": [
    {
     "name": "stdout",
     "output_type": "stream",
     "text": [
      "[(1, 1), (1, 2), (1, 3), (1, 4), (1, 5), (1, 6), (2, 1), (2, 2), (2, 3), (2, 4), (2, 5), (2, 6), (3, 1), (3, 2), (3, 3), (3, 4), (3, 5), (3, 6), (4, 1), (4, 2), (4, 3), (4, 4), (4, 5), (4, 6), (5, 1), (5, 2), (5, 3), (5, 4), (5, 5), (5, 6), (6, 1), (6, 2), (6, 3), (6, 4), (6, 5), (6, 6)]\n"
     ]
    }
   ],
   "source": [
    "sample_space = [(i,j) for i in range(1,7) for j in range(1,7)]\n",
    "print(sample_space)"
   ]
  },
  {
   "cell_type": "code",
   "execution_count": 3,
   "id": "4cb975c4",
   "metadata": {},
   "outputs": [
    {
     "name": "stdout",
     "output_type": "stream",
     "text": [
      "[2, 3, 4, 5, 6, 7, 3, 4, 5, 6, 7, 8, 4, 5, 6, 7, 8, 9, 5, 6, 7, 8, 9, 10, 6, 7, 8, 9, 10, 11, 7, 8, 9, 10, 11, 12]\n",
      "Outcomes count: 36\n"
     ]
    }
   ],
   "source": [
    "outcomes = list(map(lambda x : sum(x), sample_space))\n",
    "print(outcomes)\n",
    "print('Outcomes count: {}'.format(len(outcomes)))"
   ]
  },
  {
   "cell_type": "code",
   "execution_count": 4,
   "id": "e265e638",
   "metadata": {},
   "outputs": [
    {
     "name": "stdout",
     "output_type": "stream",
     "text": [
      "[2, 3, 4, 5, 6, 7, 3, 4, 5, 6, 7, 8, 4, 5, 6, 7, 8, 9, 5, 6, 7, 8, 9, 6, 7, 8, 9, 7, 8, 9]\n",
      "Event 1 count: 30\n"
     ]
    }
   ],
   "source": [
    "event_1 = [outcomes[i] for i,v in enumerate(outcomes) if v <= 9]\n",
    "print(event_1)\n",
    "print('Event 1 count: {}'.format(len(event_1)))"
   ]
  },
  {
   "cell_type": "code",
   "execution_count": 5,
   "id": "4f854146",
   "metadata": {},
   "outputs": [
    {
     "data": {
      "text/plain": [
       "0.8333333333333334"
      ]
     },
     "execution_count": 5,
     "metadata": {},
     "output_type": "execute_result"
    }
   ],
   "source": [
    "prob_event1 = len(event_1)/len(outcomes)\n",
    "prob_event1"
   ]
  },
  {
   "cell_type": "markdown",
   "id": "37db51f6",
   "metadata": {},
   "source": [
    "## Bayes\n",
    "$P(H_i|A_i)=\\frac{P(H_i)*P(A_i|H_i)}{P(A_i)}$"
   ]
  },
  {
   "cell_type": "code",
   "execution_count": 6,
   "id": "80e527f0",
   "metadata": {},
   "outputs": [
    {
     "name": "stdout",
     "output_type": "stream",
     "text": [
      "[(1, 2), (1, 3), (1, 4), (1, 5), (1, 6), (2, 1), (2, 3), (2, 4), (2, 5), (2, 6), (3, 1), (3, 2), (3, 4), (3, 5), (3, 6), (4, 1), (4, 2), (4, 3), (4, 5), (4, 6), (5, 1), (5, 2), (5, 3), (5, 4), (5, 6), (6, 1), (6, 2), (6, 3), (6, 4), (6, 5)]\n",
      "Event A count: 30\n"
     ]
    }
   ],
   "source": [
    "# Event H Probability\n",
    "event_H = [o for o in sample_space if o[0] != o[1]]\n",
    "print(event_H)\n",
    "print('Event A count: {}'.format(len(event_H)))"
   ]
  },
  {
   "cell_type": "code",
   "execution_count": 7,
   "id": "9302a3db",
   "metadata": {
    "scrolled": true
   },
   "outputs": [
    {
     "name": "stdout",
     "output_type": "stream",
     "text": [
      "[3, 4, 5, 6, 7, 3, 5, 6, 7, 8, 4, 5, 7, 8, 9, 5, 6, 7, 9, 10, 6, 7, 8, 9, 11, 7, 8, 9, 10, 11]\n"
     ]
    }
   ],
   "source": [
    "sum_event_H = list(map(lambda o : sum(o), event_H))\n",
    "print(sum_event_H)"
   ]
  },
  {
   "cell_type": "code",
   "execution_count": 8,
   "id": "1efa829a",
   "metadata": {},
   "outputs": [
    {
     "data": {
      "text/plain": [
       "0.8333333333333334"
      ]
     },
     "execution_count": 8,
     "metadata": {},
     "output_type": "execute_result"
    }
   ],
   "source": [
    "P_H = len(event_H)/len(sample_space)\n",
    "P_H"
   ]
  },
  {
   "cell_type": "code",
   "execution_count": 9,
   "id": "7aefb663",
   "metadata": {},
   "outputs": [
    {
     "name": "stdout",
     "output_type": "stream",
     "text": [
      "[(1, 5), (2, 4), (3, 3), (4, 2), (5, 1)]\n",
      "Event B count: 5\n"
     ]
    }
   ],
   "source": [
    "# Event A Probability\n",
    "event_A = [sample_space[i] for i, v in enumerate(outcomes) if v==6]\n",
    "print(event_A)\n",
    "print('Event B count: {}'.format(len(event_A)))"
   ]
  },
  {
   "cell_type": "code",
   "execution_count": 10,
   "id": "e4939f5b",
   "metadata": {},
   "outputs": [
    {
     "name": "stdout",
     "output_type": "stream",
     "text": [
      "[6, 6, 6, 6, 6]\n"
     ]
    }
   ],
   "source": [
    "sum_even_A = list(map(lambda o : sum(o), event_A))\n",
    "print(sum_even_A)"
   ]
  },
  {
   "cell_type": "code",
   "execution_count": 11,
   "id": "0ab7e151",
   "metadata": {},
   "outputs": [
    {
     "data": {
      "text/plain": [
       "0.1388888888888889"
      ]
     },
     "execution_count": 11,
     "metadata": {},
     "output_type": "execute_result"
    }
   ],
   "source": [
    "P_A = len(event_A)/len(sample_space)\n",
    "P_A"
   ]
  },
  {
   "cell_type": "code",
   "execution_count": 12,
   "id": "ac911615",
   "metadata": {},
   "outputs": [
    {
     "data": {
      "text/plain": [
       "[(1, 5), (2, 4), (4, 2), (5, 1)]"
      ]
     },
     "execution_count": 12,
     "metadata": {},
     "output_type": "execute_result"
    }
   ],
   "source": [
    "# Event A given H\n",
    "eventA_givenH = [event_H[i] for i, v in enumerate(sum_event_H) if v == 6]\n",
    "eventA_givenH"
   ]
  },
  {
   "cell_type": "code",
   "execution_count": 13,
   "id": "c6a4a652",
   "metadata": {},
   "outputs": [
    {
     "data": {
      "text/plain": [
       "0.13333333333333333"
      ]
     },
     "execution_count": 13,
     "metadata": {},
     "output_type": "execute_result"
    }
   ],
   "source": [
    "P_AH = len(eventA_givenH)/len(event_H)\n",
    "P_AH"
   ]
  },
  {
   "cell_type": "code",
   "execution_count": 14,
   "id": "01270621",
   "metadata": {},
   "outputs": [
    {
     "data": {
      "text/plain": [
       "[(1, 5), (2, 4), (4, 2), (5, 1)]"
      ]
     },
     "execution_count": 14,
     "metadata": {},
     "output_type": "execute_result"
    }
   ],
   "source": [
    "# Even H given A with Bayes\n",
    "eventH_givenA = [o for o in event_A if o[0] != o[1]]\n",
    "eventH_givenA"
   ]
  },
  {
   "cell_type": "code",
   "execution_count": 15,
   "id": "affebec5",
   "metadata": {},
   "outputs": [
    {
     "data": {
      "text/plain": [
       "0.8"
      ]
     },
     "execution_count": 15,
     "metadata": {},
     "output_type": "execute_result"
    }
   ],
   "source": [
    "P_HA = (P_H*P_AH)/P_A\n",
    "P_HA"
   ]
  },
  {
   "cell_type": "markdown",
   "id": "01d444f1",
   "metadata": {},
   "source": [
    "## Create Dataframe"
   ]
  },
  {
   "cell_type": "code",
   "execution_count": 16,
   "id": "4d23a496",
   "metadata": {},
   "outputs": [
    {
     "data": {
      "text/html": [
       "<div>\n",
       "<style scoped>\n",
       "    .dataframe tbody tr th:only-of-type {\n",
       "        vertical-align: middle;\n",
       "    }\n",
       "\n",
       "    .dataframe tbody tr th {\n",
       "        vertical-align: top;\n",
       "    }\n",
       "\n",
       "    .dataframe thead th {\n",
       "        text-align: right;\n",
       "    }\n",
       "</style>\n",
       "<table border=\"1\" class=\"dataframe\">\n",
       "  <thead>\n",
       "    <tr style=\"text-align: right;\">\n",
       "      <th></th>\n",
       "      <th>sample</th>\n",
       "      <th>outcomes</th>\n",
       "    </tr>\n",
       "  </thead>\n",
       "  <tbody>\n",
       "    <tr>\n",
       "      <th>0</th>\n",
       "      <td>(1, 1)</td>\n",
       "      <td>2</td>\n",
       "    </tr>\n",
       "    <tr>\n",
       "      <th>1</th>\n",
       "      <td>(1, 2)</td>\n",
       "      <td>3</td>\n",
       "    </tr>\n",
       "    <tr>\n",
       "      <th>2</th>\n",
       "      <td>(1, 3)</td>\n",
       "      <td>4</td>\n",
       "    </tr>\n",
       "    <tr>\n",
       "      <th>3</th>\n",
       "      <td>(1, 4)</td>\n",
       "      <td>5</td>\n",
       "    </tr>\n",
       "    <tr>\n",
       "      <th>4</th>\n",
       "      <td>(1, 5)</td>\n",
       "      <td>6</td>\n",
       "    </tr>\n",
       "  </tbody>\n",
       "</table>\n",
       "</div>"
      ],
      "text/plain": [
       "   sample  outcomes\n",
       "0  (1, 1)         2\n",
       "1  (1, 2)         3\n",
       "2  (1, 3)         4\n",
       "3  (1, 4)         5\n",
       "4  (1, 5)         6"
      ]
     },
     "execution_count": 16,
     "metadata": {},
     "output_type": "execute_result"
    }
   ],
   "source": [
    "df = pd.DataFrame({'sample':sample_space, 'outcomes':outcomes})\n",
    "df.head()"
   ]
  },
  {
   "cell_type": "code",
   "execution_count": 17,
   "id": "178c20d0",
   "metadata": {},
   "outputs": [
    {
     "data": {
      "text/plain": [
       "7     6\n",
       "6     5\n",
       "8     5\n",
       "5     4\n",
       "9     4\n",
       "4     3\n",
       "10    3\n",
       "3     2\n",
       "11    2\n",
       "2     1\n",
       "12    1\n",
       "Name: outcomes, dtype: int64"
      ]
     },
     "execution_count": 17,
     "metadata": {},
     "output_type": "execute_result"
    }
   ],
   "source": [
    "df.outcomes.value_counts()"
   ]
  },
  {
   "cell_type": "code",
   "execution_count": 18,
   "id": "27f61300",
   "metadata": {},
   "outputs": [
    {
     "data": {
      "text/plain": [
       "7     0.166667\n",
       "6     0.138889\n",
       "8     0.138889\n",
       "5     0.111111\n",
       "9     0.111111\n",
       "4     0.083333\n",
       "10    0.083333\n",
       "3     0.055556\n",
       "11    0.055556\n",
       "2     0.027778\n",
       "12    0.027778\n",
       "Name: outcomes, dtype: float64"
      ]
     },
     "execution_count": 18,
     "metadata": {},
     "output_type": "execute_result"
    }
   ],
   "source": [
    "df.outcomes.value_counts()/ df.outcomes.value_counts().sum()"
   ]
  },
  {
   "cell_type": "markdown",
   "id": "b13bf6d4",
   "metadata": {},
   "source": [
    "## Probability Distribution"
   ]
  },
  {
   "cell_type": "markdown",
   "id": "cb3b38d7",
   "metadata": {},
   "source": [
    "<img src='Standard_Distribution.png' width=600 height=400>\n",
    "\n",
    "#### Formula\n",
    "$f(x)=\\frac{1}{σ\\sqrt{2π}}e^{-\\frac{1}{2}(\\frac{x-μ}{σ})^2}$\n",
    "\n",
    "σ = standard deviation\n",
    "\n",
    "μ = mean"
   ]
  },
  {
   "cell_type": "code",
   "execution_count": 19,
   "id": "08bdb759",
   "metadata": {},
   "outputs": [],
   "source": [
    "mean = 3.25\n",
    "std = 3.2\n",
    "x = 30"
   ]
  },
  {
   "cell_type": "code",
   "execution_count": 20,
   "id": "d996f923",
   "metadata": {},
   "outputs": [],
   "source": [
    "# 1 away\n",
    "def prob_dens(x, mean, std):\n",
    "    term1 = np.sqrt(2*np.pi)*std\n",
    "    term2 = (1/term1)*np.exp(-0.5*((x-mean)/std)**2)\n",
    "    return term2"
   ]
  },
  {
   "cell_type": "code",
   "execution_count": 21,
   "id": "d87bc7a0",
   "metadata": {},
   "outputs": [
    {
     "data": {
      "text/plain": [
       "8.350171207760068e-17"
      ]
     },
     "execution_count": 21,
     "metadata": {},
     "output_type": "execute_result"
    }
   ],
   "source": [
    "prob_dens(x, mean, std)"
   ]
  },
  {
   "cell_type": "code",
   "execution_count": 22,
   "id": "e26ab81c",
   "metadata": {},
   "outputs": [
    {
     "data": {
      "text/plain": [
       "8.35017120776007e-17"
      ]
     },
     "execution_count": 22,
     "metadata": {},
     "output_type": "execute_result"
    }
   ],
   "source": [
    "# 2 ways\n",
    "from scipy.stats import norm\n",
    "norm(mean, std).pdf(x)"
   ]
  },
  {
   "cell_type": "markdown",
   "id": "50f6c680",
   "metadata": {},
   "source": [
    "## Probability project"
   ]
  },
  {
   "cell_type": "code",
   "execution_count": 23,
   "id": "d6c9c8e5",
   "metadata": {},
   "outputs": [
    {
     "data": {
      "text/html": [
       "<div>\n",
       "<style scoped>\n",
       "    .dataframe tbody tr th:only-of-type {\n",
       "        vertical-align: middle;\n",
       "    }\n",
       "\n",
       "    .dataframe tbody tr th {\n",
       "        vertical-align: top;\n",
       "    }\n",
       "\n",
       "    .dataframe thead th {\n",
       "        text-align: right;\n",
       "    }\n",
       "</style>\n",
       "<table border=\"1\" class=\"dataframe\">\n",
       "  <thead>\n",
       "    <tr style=\"text-align: right;\">\n",
       "      <th></th>\n",
       "      <th>user_id</th>\n",
       "      <th>timestamp</th>\n",
       "      <th>group</th>\n",
       "      <th>landing_page</th>\n",
       "      <th>converted</th>\n",
       "    </tr>\n",
       "  </thead>\n",
       "  <tbody>\n",
       "    <tr>\n",
       "      <th>0</th>\n",
       "      <td>851104</td>\n",
       "      <td>2017-01-21 22:11:48.556739</td>\n",
       "      <td>control</td>\n",
       "      <td>old_page</td>\n",
       "      <td>0</td>\n",
       "    </tr>\n",
       "    <tr>\n",
       "      <th>1</th>\n",
       "      <td>804228</td>\n",
       "      <td>2017-01-12 08:01:45.159739</td>\n",
       "      <td>control</td>\n",
       "      <td>old_page</td>\n",
       "      <td>0</td>\n",
       "    </tr>\n",
       "    <tr>\n",
       "      <th>2</th>\n",
       "      <td>661590</td>\n",
       "      <td>2017-01-11 16:55:06.154213</td>\n",
       "      <td>treatment</td>\n",
       "      <td>new_page</td>\n",
       "      <td>0</td>\n",
       "    </tr>\n",
       "    <tr>\n",
       "      <th>3</th>\n",
       "      <td>853541</td>\n",
       "      <td>2017-01-08 18:28:03.143765</td>\n",
       "      <td>treatment</td>\n",
       "      <td>new_page</td>\n",
       "      <td>0</td>\n",
       "    </tr>\n",
       "    <tr>\n",
       "      <th>4</th>\n",
       "      <td>864975</td>\n",
       "      <td>2017-01-21 01:52:26.210827</td>\n",
       "      <td>control</td>\n",
       "      <td>old_page</td>\n",
       "      <td>1</td>\n",
       "    </tr>\n",
       "  </tbody>\n",
       "</table>\n",
       "</div>"
      ],
      "text/plain": [
       "   user_id                   timestamp      group landing_page  converted\n",
       "0   851104  2017-01-21 22:11:48.556739    control     old_page          0\n",
       "1   804228  2017-01-12 08:01:45.159739    control     old_page          0\n",
       "2   661590  2017-01-11 16:55:06.154213  treatment     new_page          0\n",
       "3   853541  2017-01-08 18:28:03.143765  treatment     new_page          0\n",
       "4   864975  2017-01-21 01:52:26.210827    control     old_page          1"
      ]
     },
     "execution_count": 23,
     "metadata": {},
     "output_type": "execute_result"
    }
   ],
   "source": [
    "df = pd.read_csv('ab_data.csv')\n",
    "df.head()"
   ]
  },
  {
   "cell_type": "code",
   "execution_count": 24,
   "id": "5ffd5fee",
   "metadata": {},
   "outputs": [
    {
     "data": {
      "text/plain": [
       "(294478, 5)"
      ]
     },
     "execution_count": 24,
     "metadata": {},
     "output_type": "execute_result"
    }
   ],
   "source": [
    "df.shape"
   ]
  },
  {
   "cell_type": "code",
   "execution_count": 25,
   "id": "c5bc566b",
   "metadata": {},
   "outputs": [
    {
     "data": {
      "text/plain": [
       "treatment    147276\n",
       "control      147202\n",
       "Name: group, dtype: int64"
      ]
     },
     "execution_count": 25,
     "metadata": {},
     "output_type": "execute_result"
    }
   ],
   "source": [
    "df['group'].value_counts()"
   ]
  },
  {
   "cell_type": "code",
   "execution_count": 26,
   "id": "48b71015",
   "metadata": {},
   "outputs": [
    {
     "data": {
      "text/plain": [
       "294478"
      ]
     },
     "execution_count": 26,
     "metadata": {},
     "output_type": "execute_result"
    }
   ],
   "source": [
    "# Find the number of rows in the data\n",
    "df.shape[0]"
   ]
  },
  {
   "cell_type": "code",
   "execution_count": 27,
   "id": "4b48ded1",
   "metadata": {},
   "outputs": [
    {
     "name": "stdout",
     "output_type": "stream",
     "text": [
      "<class 'pandas.core.frame.DataFrame'>\n",
      "RangeIndex: 294478 entries, 0 to 294477\n",
      "Data columns (total 5 columns):\n",
      " #   Column        Non-Null Count   Dtype \n",
      "---  ------        --------------   ----- \n",
      " 0   user_id       294478 non-null  int64 \n",
      " 1   timestamp     294478 non-null  object\n",
      " 2   group         294478 non-null  object\n",
      " 3   landing_page  294478 non-null  object\n",
      " 4   converted     294478 non-null  int64 \n",
      "dtypes: int64(2), object(3)\n",
      "memory usage: 11.2+ MB\n"
     ]
    }
   ],
   "source": [
    "df.info()"
   ]
  },
  {
   "cell_type": "code",
   "execution_count": 28,
   "id": "b17cb884",
   "metadata": {},
   "outputs": [
    {
     "data": {
      "text/plain": [
       "290584"
      ]
     },
     "execution_count": 28,
     "metadata": {},
     "output_type": "execute_result"
    }
   ],
   "source": [
    "# the number of unique users in the data\n",
    "df['user_id'].nunique()"
   ]
  },
  {
   "cell_type": "code",
   "execution_count": 29,
   "id": "32db0524",
   "metadata": {},
   "outputs": [
    {
     "data": {
      "text/plain": [
       "0    0.880341\n",
       "1    0.119659\n",
       "Name: converted, dtype: float64"
      ]
     },
     "execution_count": 29,
     "metadata": {},
     "output_type": "execute_result"
    }
   ],
   "source": [
    "# the proportion users converted\n",
    "df['converted'].value_counts(1)"
   ]
  },
  {
   "cell_type": "code",
   "execution_count": 30,
   "id": "0f5aa914",
   "metadata": {},
   "outputs": [
    {
     "name": "stdout",
     "output_type": "stream",
     "text": [
      "12.0 %\n"
     ]
    }
   ],
   "source": [
    "print(np.round(len(df.query('converted == 1'))/len(df),2)*100, '%')"
   ]
  },
  {
   "cell_type": "code",
   "execution_count": 31,
   "id": "439562c6",
   "metadata": {},
   "outputs": [
    {
     "name": "stdout",
     "output_type": "stream",
     "text": [
      "88.0 %\n"
     ]
    }
   ],
   "source": [
    "print(np.round(len(df.query('converted == 0'))/len(df),2)*100, '%')"
   ]
  },
  {
   "cell_type": "code",
   "execution_count": 32,
   "id": "4b74a271",
   "metadata": {},
   "outputs": [
    {
     "data": {
      "text/plain": [
       "1928"
      ]
     },
     "execution_count": 32,
     "metadata": {},
     "output_type": "execute_result"
    }
   ],
   "source": [
    "# the number of times the new_page and treament don't match\n",
    "df.query('landing_page == \"new_page\" & group != \"treatment\"').shape[0]"
   ]
  },
  {
   "cell_type": "code",
   "execution_count": 33,
   "id": "9ffea982",
   "metadata": {},
   "outputs": [
    {
     "data": {
      "text/plain": [
       "user_id         0\n",
       "timestamp       0\n",
       "group           0\n",
       "landing_page    0\n",
       "converted       0\n",
       "dtype: int64"
      ]
     },
     "execution_count": 33,
     "metadata": {},
     "output_type": "execute_result"
    }
   ],
   "source": [
    "# do any of the rows have missing values?\n",
    "df.isnull().sum()"
   ]
  },
  {
   "cell_type": "code",
   "execution_count": 34,
   "id": "b399e5a2",
   "metadata": {},
   "outputs": [
    {
     "data": {
      "text/html": [
       "<div>\n",
       "<style scoped>\n",
       "    .dataframe tbody tr th:only-of-type {\n",
       "        vertical-align: middle;\n",
       "    }\n",
       "\n",
       "    .dataframe tbody tr th {\n",
       "        vertical-align: top;\n",
       "    }\n",
       "\n",
       "    .dataframe thead th {\n",
       "        text-align: right;\n",
       "    }\n",
       "</style>\n",
       "<table border=\"1\" class=\"dataframe\">\n",
       "  <thead>\n",
       "    <tr style=\"text-align: right;\">\n",
       "      <th></th>\n",
       "      <th>user_id</th>\n",
       "      <th>timestamp</th>\n",
       "      <th>group</th>\n",
       "      <th>landing_page</th>\n",
       "      <th>converted</th>\n",
       "    </tr>\n",
       "  </thead>\n",
       "  <tbody>\n",
       "    <tr>\n",
       "      <th>2</th>\n",
       "      <td>661590</td>\n",
       "      <td>2017-01-11 16:55:06.154213</td>\n",
       "      <td>treatment</td>\n",
       "      <td>new_page</td>\n",
       "      <td>0</td>\n",
       "    </tr>\n",
       "    <tr>\n",
       "      <th>3</th>\n",
       "      <td>853541</td>\n",
       "      <td>2017-01-08 18:28:03.143765</td>\n",
       "      <td>treatment</td>\n",
       "      <td>new_page</td>\n",
       "      <td>0</td>\n",
       "    </tr>\n",
       "    <tr>\n",
       "      <th>6</th>\n",
       "      <td>679687</td>\n",
       "      <td>2017-01-19 03:26:46.940749</td>\n",
       "      <td>treatment</td>\n",
       "      <td>new_page</td>\n",
       "      <td>1</td>\n",
       "    </tr>\n",
       "    <tr>\n",
       "      <th>8</th>\n",
       "      <td>817355</td>\n",
       "      <td>2017-01-04 17:58:08.979471</td>\n",
       "      <td>treatment</td>\n",
       "      <td>new_page</td>\n",
       "      <td>1</td>\n",
       "    </tr>\n",
       "    <tr>\n",
       "      <th>9</th>\n",
       "      <td>839785</td>\n",
       "      <td>2017-01-15 18:11:06.610965</td>\n",
       "      <td>treatment</td>\n",
       "      <td>new_page</td>\n",
       "      <td>1</td>\n",
       "    </tr>\n",
       "  </tbody>\n",
       "</table>\n",
       "</div>"
      ],
      "text/plain": [
       "   user_id                   timestamp      group landing_page  converted\n",
       "2   661590  2017-01-11 16:55:06.154213  treatment     new_page          0\n",
       "3   853541  2017-01-08 18:28:03.143765  treatment     new_page          0\n",
       "6   679687  2017-01-19 03:26:46.940749  treatment     new_page          1\n",
       "8   817355  2017-01-04 17:58:08.979471  treatment     new_page          1\n",
       "9   839785  2017-01-15 18:11:06.610965  treatment     new_page          1"
      ]
     },
     "execution_count": 34,
     "metadata": {},
     "output_type": "execute_result"
    }
   ],
   "source": [
    "# group is treatment for landing page is new page\n",
    "df_01 = df.query('landing_page == \"new_page\" & group == \"treatment\"')\n",
    "df_01.iloc[:5]"
   ]
  },
  {
   "cell_type": "code",
   "execution_count": 35,
   "id": "09731f1b",
   "metadata": {},
   "outputs": [
    {
     "data": {
      "text/html": [
       "<div>\n",
       "<style scoped>\n",
       "    .dataframe tbody tr th:only-of-type {\n",
       "        vertical-align: middle;\n",
       "    }\n",
       "\n",
       "    .dataframe tbody tr th {\n",
       "        vertical-align: top;\n",
       "    }\n",
       "\n",
       "    .dataframe thead th {\n",
       "        text-align: right;\n",
       "    }\n",
       "</style>\n",
       "<table border=\"1\" class=\"dataframe\">\n",
       "  <thead>\n",
       "    <tr style=\"text-align: right;\">\n",
       "      <th></th>\n",
       "      <th>user_id</th>\n",
       "      <th>timestamp</th>\n",
       "      <th>group</th>\n",
       "      <th>landing_page</th>\n",
       "      <th>converted</th>\n",
       "    </tr>\n",
       "  </thead>\n",
       "  <tbody>\n",
       "    <tr>\n",
       "      <th>0</th>\n",
       "      <td>851104</td>\n",
       "      <td>2017-01-21 22:11:48.556739</td>\n",
       "      <td>control</td>\n",
       "      <td>old_page</td>\n",
       "      <td>0</td>\n",
       "    </tr>\n",
       "    <tr>\n",
       "      <th>1</th>\n",
       "      <td>804228</td>\n",
       "      <td>2017-01-12 08:01:45.159739</td>\n",
       "      <td>control</td>\n",
       "      <td>old_page</td>\n",
       "      <td>0</td>\n",
       "    </tr>\n",
       "    <tr>\n",
       "      <th>4</th>\n",
       "      <td>864975</td>\n",
       "      <td>2017-01-21 01:52:26.210827</td>\n",
       "      <td>control</td>\n",
       "      <td>old_page</td>\n",
       "      <td>1</td>\n",
       "    </tr>\n",
       "    <tr>\n",
       "      <th>5</th>\n",
       "      <td>936923</td>\n",
       "      <td>2017-01-10 15:20:49.083499</td>\n",
       "      <td>control</td>\n",
       "      <td>old_page</td>\n",
       "      <td>0</td>\n",
       "    </tr>\n",
       "    <tr>\n",
       "      <th>7</th>\n",
       "      <td>719014</td>\n",
       "      <td>2017-01-17 01:48:29.539573</td>\n",
       "      <td>control</td>\n",
       "      <td>old_page</td>\n",
       "      <td>0</td>\n",
       "    </tr>\n",
       "  </tbody>\n",
       "</table>\n",
       "</div>"
      ],
      "text/plain": [
       "   user_id                   timestamp    group landing_page  converted\n",
       "0   851104  2017-01-21 22:11:48.556739  control     old_page          0\n",
       "1   804228  2017-01-12 08:01:45.159739  control     old_page          0\n",
       "4   864975  2017-01-21 01:52:26.210827  control     old_page          1\n",
       "5   936923  2017-01-10 15:20:49.083499  control     old_page          0\n",
       "7   719014  2017-01-17 01:48:29.539573  control     old_page          0"
      ]
     },
     "execution_count": 35,
     "metadata": {},
     "output_type": "execute_result"
    }
   ],
   "source": [
    "# group is control for landing page is old page\n",
    "df_02 = df.query('landing_page == \"old_page\" & group == \"control\"')\n",
    "df_02.iloc[:5]"
   ]
  },
  {
   "cell_type": "code",
   "execution_count": 36,
   "id": "26af6f1c",
   "metadata": {},
   "outputs": [
    {
     "data": {
      "text/html": [
       "<div>\n",
       "<style scoped>\n",
       "    .dataframe tbody tr th:only-of-type {\n",
       "        vertical-align: middle;\n",
       "    }\n",
       "\n",
       "    .dataframe tbody tr th {\n",
       "        vertical-align: top;\n",
       "    }\n",
       "\n",
       "    .dataframe thead th {\n",
       "        text-align: right;\n",
       "    }\n",
       "</style>\n",
       "<table border=\"1\" class=\"dataframe\">\n",
       "  <thead>\n",
       "    <tr style=\"text-align: right;\">\n",
       "      <th></th>\n",
       "      <th>user_id</th>\n",
       "      <th>timestamp</th>\n",
       "      <th>group</th>\n",
       "      <th>landing_page</th>\n",
       "      <th>converted</th>\n",
       "    </tr>\n",
       "  </thead>\n",
       "  <tbody>\n",
       "    <tr>\n",
       "      <th>2</th>\n",
       "      <td>661590</td>\n",
       "      <td>2017-01-11 16:55:06.154213</td>\n",
       "      <td>treatment</td>\n",
       "      <td>new_page</td>\n",
       "      <td>0</td>\n",
       "    </tr>\n",
       "    <tr>\n",
       "      <th>3</th>\n",
       "      <td>853541</td>\n",
       "      <td>2017-01-08 18:28:03.143765</td>\n",
       "      <td>treatment</td>\n",
       "      <td>new_page</td>\n",
       "      <td>0</td>\n",
       "    </tr>\n",
       "    <tr>\n",
       "      <th>6</th>\n",
       "      <td>679687</td>\n",
       "      <td>2017-01-19 03:26:46.940749</td>\n",
       "      <td>treatment</td>\n",
       "      <td>new_page</td>\n",
       "      <td>1</td>\n",
       "    </tr>\n",
       "    <tr>\n",
       "      <th>8</th>\n",
       "      <td>817355</td>\n",
       "      <td>2017-01-04 17:58:08.979471</td>\n",
       "      <td>treatment</td>\n",
       "      <td>new_page</td>\n",
       "      <td>1</td>\n",
       "    </tr>\n",
       "    <tr>\n",
       "      <th>9</th>\n",
       "      <td>839785</td>\n",
       "      <td>2017-01-15 18:11:06.610965</td>\n",
       "      <td>treatment</td>\n",
       "      <td>new_page</td>\n",
       "      <td>1</td>\n",
       "    </tr>\n",
       "  </tbody>\n",
       "</table>\n",
       "</div>"
      ],
      "text/plain": [
       "   user_id                   timestamp      group landing_page  converted\n",
       "2   661590  2017-01-11 16:55:06.154213  treatment     new_page          0\n",
       "3   853541  2017-01-08 18:28:03.143765  treatment     new_page          0\n",
       "6   679687  2017-01-19 03:26:46.940749  treatment     new_page          1\n",
       "8   817355  2017-01-04 17:58:08.979471  treatment     new_page          1\n",
       "9   839785  2017-01-15 18:11:06.610965  treatment     new_page          1"
      ]
     },
     "execution_count": 36,
     "metadata": {},
     "output_type": "execute_result"
    }
   ],
   "source": [
    "# store new dataframe in df2\n",
    "df2 = pd.concat([df_01,df_02], axis=0)\n",
    "df2.head()"
   ]
  },
  {
   "cell_type": "code",
   "execution_count": 37,
   "id": "99907a80",
   "metadata": {},
   "outputs": [
    {
     "data": {
      "text/plain": [
       "((145311, 5), (145274, 5), (290585, 5))"
      ]
     },
     "execution_count": 37,
     "metadata": {},
     "output_type": "execute_result"
    }
   ],
   "source": [
    "df_01.shape, df_02.shape, df2.shape"
   ]
  },
  {
   "cell_type": "code",
   "execution_count": 38,
   "id": "9b0b76ad",
   "metadata": {},
   "outputs": [
    {
     "data": {
      "text/plain": [
       "290584"
      ]
     },
     "execution_count": 38,
     "metadata": {},
     "output_type": "execute_result"
    }
   ],
   "source": [
    "# how many unique user_ids are in df2\n",
    "df2['user_id'].nunique()"
   ]
  },
  {
   "cell_type": "code",
   "execution_count": 39,
   "id": "fede9a10",
   "metadata": {
    "scrolled": true
   },
   "outputs": [
    {
     "data": {
      "text/html": [
       "<div>\n",
       "<style scoped>\n",
       "    .dataframe tbody tr th:only-of-type {\n",
       "        vertical-align: middle;\n",
       "    }\n",
       "\n",
       "    .dataframe tbody tr th {\n",
       "        vertical-align: top;\n",
       "    }\n",
       "\n",
       "    .dataframe thead th {\n",
       "        text-align: right;\n",
       "    }\n",
       "</style>\n",
       "<table border=\"1\" class=\"dataframe\">\n",
       "  <thead>\n",
       "    <tr style=\"text-align: right;\">\n",
       "      <th></th>\n",
       "      <th>user_id</th>\n",
       "      <th>timestamp</th>\n",
       "      <th>group</th>\n",
       "      <th>landing_page</th>\n",
       "      <th>converted</th>\n",
       "    </tr>\n",
       "  </thead>\n",
       "  <tbody>\n",
       "    <tr>\n",
       "      <th>1899</th>\n",
       "      <td>773192</td>\n",
       "      <td>2017-01-09 05:37:58.781806</td>\n",
       "      <td>treatment</td>\n",
       "      <td>new_page</td>\n",
       "      <td>0</td>\n",
       "    </tr>\n",
       "    <tr>\n",
       "      <th>2893</th>\n",
       "      <td>773192</td>\n",
       "      <td>2017-01-14 02:55:59.590927</td>\n",
       "      <td>treatment</td>\n",
       "      <td>new_page</td>\n",
       "      <td>0</td>\n",
       "    </tr>\n",
       "  </tbody>\n",
       "</table>\n",
       "</div>"
      ],
      "text/plain": [
       "      user_id                   timestamp      group landing_page  converted\n",
       "1899   773192  2017-01-09 05:37:58.781806  treatment     new_page          0\n",
       "2893   773192  2017-01-14 02:55:59.590927  treatment     new_page          0"
      ]
     },
     "execution_count": 39,
     "metadata": {},
     "output_type": "execute_result"
    }
   ],
   "source": [
    "# there is 1 user_id repeated in df2, find it?\n",
    "df2[df2.duplicated(subset='user_id', keep = False)]"
   ]
  },
  {
   "cell_type": "code",
   "execution_count": 40,
   "id": "b8410216",
   "metadata": {},
   "outputs": [],
   "source": [
    "# remove one of rows with a duplicate user_id, but keep your data as df2\n",
    "df2.drop_duplicates(subset='user_id', inplace=True)"
   ]
  },
  {
   "cell_type": "code",
   "execution_count": 41,
   "id": "ff127bdd",
   "metadata": {},
   "outputs": [
    {
     "data": {
      "text/plain": [
       "290584"
      ]
     },
     "execution_count": 41,
     "metadata": {},
     "output_type": "execute_result"
    }
   ],
   "source": [
    "df2.shape[0]"
   ]
  },
  {
   "cell_type": "code",
   "execution_count": 42,
   "id": "8b35f222",
   "metadata": {},
   "outputs": [
    {
     "data": {
      "text/plain": [
       "0    0.880403\n",
       "1    0.119597\n",
       "Name: converted, dtype: float64"
      ]
     },
     "execution_count": 42,
     "metadata": {},
     "output_type": "execute_result"
    }
   ],
   "source": [
    "# probability of an individual converting regardiess of the page they receive?\n",
    "df2['converted'].value_counts(1)"
   ]
  },
  {
   "cell_type": "code",
   "execution_count": 43,
   "id": "1cb99219",
   "metadata": {},
   "outputs": [
    {
     "data": {
      "text/plain": [
       "0    0.879614\n",
       "1    0.120386\n",
       "Name: converted, dtype: float64"
      ]
     },
     "execution_count": 43,
     "metadata": {},
     "output_type": "execute_result"
    }
   ],
   "source": [
    "# given that an individual was in the control group, what is the probability they converted\n",
    "df2[(df2['group'] == \"control\")]['converted'].value_counts(1)"
   ]
  },
  {
   "cell_type": "code",
   "execution_count": 44,
   "id": "9c44698d",
   "metadata": {},
   "outputs": [
    {
     "data": {
      "text/plain": [
       "0    0.881192\n",
       "1    0.118808\n",
       "Name: converted, dtype: float64"
      ]
     },
     "execution_count": 44,
     "metadata": {},
     "output_type": "execute_result"
    }
   ],
   "source": [
    "# given that an individual was in the tratment group, what is the probability they converted\n",
    "df2[(df2['group'] == 'treatment')]['converted'].value_counts(1)"
   ]
  },
  {
   "cell_type": "code",
   "execution_count": 45,
   "id": "e3f570ac",
   "metadata": {},
   "outputs": [
    {
     "data": {
      "text/plain": [
       "0.5000619442226688"
      ]
     },
     "execution_count": 45,
     "metadata": {},
     "output_type": "execute_result"
    }
   ],
   "source": [
    "# what is the probability that an individual received the new page?\n",
    "len(df2.query('landing_page == \"new_page\"'))/df2.shape[0]"
   ]
  },
  {
   "cell_type": "code",
   "execution_count": 46,
   "id": "f814eaf3",
   "metadata": {},
   "outputs": [
    {
     "data": {
      "text/plain": [
       "0.11880806551510564"
      ]
     },
     "execution_count": 46,
     "metadata": {},
     "output_type": "execute_result"
    }
   ],
   "source": [
    "# compare new_page and old_page probability\n",
    "df2[(df2['landing_page'] == 'new_page')]['converted'].value_counts(1)[1]"
   ]
  },
  {
   "cell_type": "code",
   "execution_count": 47,
   "id": "15396753",
   "metadata": {},
   "outputs": [
    {
     "data": {
      "text/plain": [
       "0.1203863045004612"
      ]
     },
     "execution_count": 47,
     "metadata": {},
     "output_type": "execute_result"
    }
   ],
   "source": [
    "df2[(df2['landing_page'] == 'old_page')]['converted'].value_counts(1)[1]"
   ]
  },
  {
   "cell_type": "markdown",
   "id": "a929d1e1",
   "metadata": {},
   "source": [
    "# Statistics"
   ]
  },
  {
   "cell_type": "code",
   "execution_count": 48,
   "id": "4419e2f2",
   "metadata": {},
   "outputs": [],
   "source": [
    "# qualitative values\n",
    "products = ['Coca', 'Pepsi', 'Coke', 'Pepper', 'Sprite']\n",
    "sale = np.array([5,10,15,20,25,30,35,40,45,50,5,10,25,30,35,5,40,40,20,30,25])"
   ]
  },
  {
   "cell_type": "markdown",
   "id": "8e56856f",
   "metadata": {},
   "source": [
    "### Histogram Plot"
   ]
  },
  {
   "cell_type": "code",
   "execution_count": 49,
   "id": "40b55ef2",
   "metadata": {},
   "outputs": [
    {
     "data": {
      "image/png": "[encoded data removed]",
      "text/plain": [
       "<Figure size 432x288 with 1 Axes>"
      ]
     },
     "metadata": {
      "needs_background": "light"
     },
     "output_type": "display_data"
    }
   ],
   "source": [
    "plt.hist(sale, rwidth=.9);\n",
    "plt.title('Histogram_Plot');\n",
    "plt.xlabel('Price');\n",
    "plt.ylabel('Count');"
   ]
  },
  {
   "cell_type": "markdown",
   "id": "d57ef499",
   "metadata": {},
   "source": [
    "## Boxplot"
   ]
  },
  {
   "cell_type": "code",
   "execution_count": 50,
   "id": "753210ce",
   "metadata": {},
   "outputs": [
    {
     "data": {
      "text/plain": [
       "['anagrams',\n",
       " 'anscombe',\n",
       " 'attention',\n",
       " 'brain_networks',\n",
       " 'car_crashes',\n",
       " 'diamonds',\n",
       " 'dots',\n",
       " 'exercise',\n",
       " 'flights',\n",
       " 'fmri',\n",
       " 'gammas',\n",
       " 'geyser',\n",
       " 'iris',\n",
       " 'mpg',\n",
       " 'penguins',\n",
       " 'planets',\n",
       " 'taxis',\n",
       " 'tips',\n",
       " 'titanic']"
      ]
     },
     "execution_count": 50,
     "metadata": {},
     "output_type": "execute_result"
    }
   ],
   "source": [
    "sns.get_dataset_names()"
   ]
  },
  {
   "cell_type": "code",
   "execution_count": 51,
   "id": "5a904890",
   "metadata": {},
   "outputs": [
    {
     "data": {
      "text/html": [
       "<div>\n",
       "<style scoped>\n",
       "    .dataframe tbody tr th:only-of-type {\n",
       "        vertical-align: middle;\n",
       "    }\n",
       "\n",
       "    .dataframe tbody tr th {\n",
       "        vertical-align: top;\n",
       "    }\n",
       "\n",
       "    .dataframe thead th {\n",
       "        text-align: right;\n",
       "    }\n",
       "</style>\n",
       "<table border=\"1\" class=\"dataframe\">\n",
       "  <thead>\n",
       "    <tr style=\"text-align: right;\">\n",
       "      <th></th>\n",
       "      <th>total_bill</th>\n",
       "      <th>tip</th>\n",
       "      <th>sex</th>\n",
       "      <th>smoker</th>\n",
       "      <th>day</th>\n",
       "      <th>time</th>\n",
       "      <th>size</th>\n",
       "    </tr>\n",
       "  </thead>\n",
       "  <tbody>\n",
       "    <tr>\n",
       "      <th>0</th>\n",
       "      <td>16.99</td>\n",
       "      <td>1.01</td>\n",
       "      <td>Female</td>\n",
       "      <td>No</td>\n",
       "      <td>Sun</td>\n",
       "      <td>Dinner</td>\n",
       "      <td>2</td>\n",
       "    </tr>\n",
       "    <tr>\n",
       "      <th>1</th>\n",
       "      <td>10.34</td>\n",
       "      <td>1.66</td>\n",
       "      <td>Male</td>\n",
       "      <td>No</td>\n",
       "      <td>Sun</td>\n",
       "      <td>Dinner</td>\n",
       "      <td>3</td>\n",
       "    </tr>\n",
       "    <tr>\n",
       "      <th>2</th>\n",
       "      <td>21.01</td>\n",
       "      <td>3.50</td>\n",
       "      <td>Male</td>\n",
       "      <td>No</td>\n",
       "      <td>Sun</td>\n",
       "      <td>Dinner</td>\n",
       "      <td>3</td>\n",
       "    </tr>\n",
       "    <tr>\n",
       "      <th>3</th>\n",
       "      <td>23.68</td>\n",
       "      <td>3.31</td>\n",
       "      <td>Male</td>\n",
       "      <td>No</td>\n",
       "      <td>Sun</td>\n",
       "      <td>Dinner</td>\n",
       "      <td>2</td>\n",
       "    </tr>\n",
       "    <tr>\n",
       "      <th>4</th>\n",
       "      <td>24.59</td>\n",
       "      <td>3.61</td>\n",
       "      <td>Female</td>\n",
       "      <td>No</td>\n",
       "      <td>Sun</td>\n",
       "      <td>Dinner</td>\n",
       "      <td>4</td>\n",
       "    </tr>\n",
       "  </tbody>\n",
       "</table>\n",
       "</div>"
      ],
      "text/plain": [
       "   total_bill   tip     sex smoker  day    time  size\n",
       "0       16.99  1.01  Female     No  Sun  Dinner     2\n",
       "1       10.34  1.66    Male     No  Sun  Dinner     3\n",
       "2       21.01  3.50    Male     No  Sun  Dinner     3\n",
       "3       23.68  3.31    Male     No  Sun  Dinner     2\n",
       "4       24.59  3.61  Female     No  Sun  Dinner     4"
      ]
     },
     "execution_count": 51,
     "metadata": {},
     "output_type": "execute_result"
    }
   ],
   "source": [
    "df_tip = sns.load_dataset('tips')\n",
    "df_tip.head()"
   ]
  },
  {
   "cell_type": "code",
   "execution_count": 52,
   "id": "cf4b494d",
   "metadata": {},
   "outputs": [
    {
     "data": {
      "image/png": "[encoded data removed]",
      "text/plain": [
       "<Figure size 576x360 with 1 Axes>"
      ]
     },
     "metadata": {
      "needs_background": "light"
     },
     "output_type": "display_data"
    }
   ],
   "source": [
    "df_tip.boxplot(by='sex', column = 'total_bill', figsize=(8,5));"
   ]
  },
  {
   "cell_type": "markdown",
   "id": "286fe1f5",
   "metadata": {},
   "source": [
    "### Scatter Plot"
   ]
  },
  {
   "cell_type": "code",
   "execution_count": 53,
   "id": "8fb07f48",
   "metadata": {},
   "outputs": [],
   "source": [
    "# quantitative values\n",
    "salary = np.array([134,545,234,5667,3232,554,5656,678,898,545,527,123,654,623,2134])\n",
    "years = np.array([0,3,1,10,7,4,11,8,9,4,1,5,6,8,9])"
   ]
  },
  {
   "cell_type": "code",
   "execution_count": 54,
   "id": "471b8f2c",
   "metadata": {},
   "outputs": [],
   "source": [
    "from statistics import mean\n",
    "from sklearn import linear_model"
   ]
  },
  {
   "cell_type": "code",
   "execution_count": 55,
   "id": "f364718f",
   "metadata": {},
   "outputs": [],
   "source": [
    "def best_fit_line(years,salary):\n",
    "    slope = (((mean(years) * mean(salary)) - mean(years * salary)) / ((mean(years) * mean(years)) - mean(years * years)))\n",
    "    y_intecept = mean(salary) - slope * mean(years)\n",
    "    return slope, y_intecept"
   ]
  },
  {
   "cell_type": "code",
   "execution_count": 56,
   "id": "050b3da9",
   "metadata": {},
   "outputs": [
    {
     "data": {
      "image/png": "[encoded data removed]",
      "text/plain": [
       "<Figure size 432x288 with 1 Axes>"
      ]
     },
     "metadata": {
      "needs_background": "light"
     },
     "output_type": "display_data"
    }
   ],
   "source": [
    "slope, y_intecept = best_fit_line(years,salary)\n",
    "regression_line = [(slope*x) + y_intecept for x  in salary]\n",
    "height_weight = linear_model.LinearRegression()\n",
    "# Train the model using the training sets\n",
    "height_weight.fit(years.reshape(-1,1),salary)\n",
    "regression_line = height_weight.predict(years.reshape(-1,1))\n",
    "plt.scatter(years, salary);\n",
    "plt.plot(years, regression_line);"
   ]
  },
  {
   "cell_type": "code",
   "execution_count": 57,
   "id": "34038d1a",
   "metadata": {},
   "outputs": [],
   "source": [
    "def statistics(x):\n",
    "    print('min: ', np.min(x))\n",
    "    print('max: ', np.max(x))\n",
    "    print('range: ', np.max(x)-np.min(x))\n",
    "    print('mean: ', np.mean(x))\n",
    "    print('median: ', np.median(x))\n",
    "    print('varience: ', np.var(x))\n",
    "    print('standard: ', np.std(x))"
   ]
  },
  {
   "cell_type": "code",
   "execution_count": 58,
   "id": "54c572da",
   "metadata": {},
   "outputs": [
    {
     "name": "stdout",
     "output_type": "stream",
     "text": [
      "min:  5\n",
      "max:  50\n",
      "range:  45\n",
      "mean:  25.714285714285715\n",
      "median:  25.0\n",
      "varience:  179.2517006802721\n",
      "standard:  13.388491351913856\n"
     ]
    }
   ],
   "source": [
    "statistics(sale)"
   ]
  },
  {
   "cell_type": "markdown",
   "id": "12c9ed5d",
   "metadata": {},
   "source": [
    "### Choice sample"
   ]
  },
  {
   "cell_type": "code",
   "execution_count": 59,
   "id": "cf09c46d",
   "metadata": {},
   "outputs": [
    {
     "data": {
      "text/plain": [
       "array([20, 30, 25, 30, 30, 20, 40, 30, 25, 40])"
      ]
     },
     "execution_count": 59,
     "metadata": {},
     "output_type": "execute_result"
    }
   ],
   "source": [
    "sample_sale = np.random.choice(sale, size=10)\n",
    "sample_sale"
   ]
  },
  {
   "cell_type": "code",
   "execution_count": 60,
   "id": "3caf62f1",
   "metadata": {},
   "outputs": [
    {
     "name": "stdout",
     "output_type": "stream",
     "text": [
      "min:  20\n",
      "max:  40\n",
      "range:  20\n",
      "mean:  29.0\n",
      "median:  30.0\n",
      "varience:  44.0\n",
      "standard:  6.6332495807108\n"
     ]
    }
   ],
   "source": [
    "statistics(sample_sale)"
   ]
  },
  {
   "cell_type": "markdown",
   "id": "284f4e63",
   "metadata": {},
   "source": [
    "### Hypothesis"
   ]
  },
  {
   "cell_type": "markdown",
   "id": "83a33a64",
   "metadata": {},
   "source": [
    "#### Example:\n",
    "- When\n",
    "\n",
    "n = 40\n",
    "\n",
    "x = 13.25\n",
    "\n",
    "σ =3.2\n",
    "\n",
    "α =0.05\n",
    "\n",
    "- Hypothesis\n",
    "\n",
    "$H_0$: μ <= 12\n",
    "\n",
    "$H_1$: μ > 12\n",
    "\n",
    "- z-score\n",
    "\n",
    "$z = \\frac{x-μ}{\\frac{α}{\\sqrt {n}}}$\n",
    "\n",
    "<=> $z = \\frac{13.25-12}{\\frac{0.05}{\\sqrt {40}}}$ = 2.47\n",
    "\n",
    "- p-value\n",
    "\n",
    "p-value = 0.68% < 0.05\n",
    "\n",
    "##### => Choice $H_1$"
   ]
  },
  {
   "cell_type": "markdown",
   "id": "4e49c3d7",
   "metadata": {},
   "source": [
    "## Statistics project"
   ]
  },
  {
   "cell_type": "code",
   "execution_count": 61,
   "id": "2c88dd3c",
   "metadata": {},
   "outputs": [
    {
     "data": {
      "text/html": [
       "<div>\n",
       "<style scoped>\n",
       "    .dataframe tbody tr th:only-of-type {\n",
       "        vertical-align: middle;\n",
       "    }\n",
       "\n",
       "    .dataframe tbody tr th {\n",
       "        vertical-align: top;\n",
       "    }\n",
       "\n",
       "    .dataframe thead th {\n",
       "        text-align: right;\n",
       "    }\n",
       "</style>\n",
       "<table border=\"1\" class=\"dataframe\">\n",
       "  <thead>\n",
       "    <tr style=\"text-align: right;\">\n",
       "      <th></th>\n",
       "      <th>user_id</th>\n",
       "      <th>timestamp</th>\n",
       "      <th>group</th>\n",
       "      <th>landing_page</th>\n",
       "      <th>converted</th>\n",
       "    </tr>\n",
       "  </thead>\n",
       "  <tbody>\n",
       "    <tr>\n",
       "      <th>2</th>\n",
       "      <td>661590</td>\n",
       "      <td>2017-01-11 16:55:06.154213</td>\n",
       "      <td>treatment</td>\n",
       "      <td>new_page</td>\n",
       "      <td>0</td>\n",
       "    </tr>\n",
       "    <tr>\n",
       "      <th>3</th>\n",
       "      <td>853541</td>\n",
       "      <td>2017-01-08 18:28:03.143765</td>\n",
       "      <td>treatment</td>\n",
       "      <td>new_page</td>\n",
       "      <td>0</td>\n",
       "    </tr>\n",
       "    <tr>\n",
       "      <th>6</th>\n",
       "      <td>679687</td>\n",
       "      <td>2017-01-19 03:26:46.940749</td>\n",
       "      <td>treatment</td>\n",
       "      <td>new_page</td>\n",
       "      <td>1</td>\n",
       "    </tr>\n",
       "    <tr>\n",
       "      <th>8</th>\n",
       "      <td>817355</td>\n",
       "      <td>2017-01-04 17:58:08.979471</td>\n",
       "      <td>treatment</td>\n",
       "      <td>new_page</td>\n",
       "      <td>1</td>\n",
       "    </tr>\n",
       "    <tr>\n",
       "      <th>9</th>\n",
       "      <td>839785</td>\n",
       "      <td>2017-01-15 18:11:06.610965</td>\n",
       "      <td>treatment</td>\n",
       "      <td>new_page</td>\n",
       "      <td>1</td>\n",
       "    </tr>\n",
       "  </tbody>\n",
       "</table>\n",
       "</div>"
      ],
      "text/plain": [
       "   user_id                   timestamp      group landing_page  converted\n",
       "2   661590  2017-01-11 16:55:06.154213  treatment     new_page          0\n",
       "3   853541  2017-01-08 18:28:03.143765  treatment     new_page          0\n",
       "6   679687  2017-01-19 03:26:46.940749  treatment     new_page          1\n",
       "8   817355  2017-01-04 17:58:08.979471  treatment     new_page          1\n",
       "9   839785  2017-01-15 18:11:06.610965  treatment     new_page          1"
      ]
     },
     "execution_count": 61,
     "metadata": {},
     "output_type": "execute_result"
    }
   ],
   "source": [
    "df2.head()"
   ]
  },
  {
   "cell_type": "code",
   "execution_count": 62,
   "id": "1b8e7893",
   "metadata": {},
   "outputs": [
    {
     "data": {
      "text/plain": [
       "(290584, 5)"
      ]
     },
     "execution_count": 62,
     "metadata": {},
     "output_type": "execute_result"
    }
   ],
   "source": [
    "df2.shape"
   ]
  },
  {
   "cell_type": "code",
   "execution_count": 63,
   "id": "21edf3fe",
   "metadata": {},
   "outputs": [
    {
     "data": {
      "text/plain": [
       "0.11959708724499628"
      ]
     },
     "execution_count": 63,
     "metadata": {},
     "output_type": "execute_result"
    }
   ],
   "source": [
    "pNew = df2.query('converted == 1').shape[0]/df2.shape[0]\n",
    "pNew"
   ]
  },
  {
   "cell_type": "code",
   "execution_count": 64,
   "id": "d0c4d2eb",
   "metadata": {},
   "outputs": [
    {
     "data": {
      "text/plain": [
       "0.11959708724499628"
      ]
     },
     "execution_count": 64,
     "metadata": {},
     "output_type": "execute_result"
    }
   ],
   "source": [
    "pOld = pNew\n",
    "pOld"
   ]
  },
  {
   "cell_type": "code",
   "execution_count": 65,
   "id": "7ac5ecfa",
   "metadata": {},
   "outputs": [
    {
     "data": {
      "text/plain": [
       "0.11959708724499628"
      ]
     },
     "execution_count": 65,
     "metadata": {},
     "output_type": "execute_result"
    }
   ],
   "source": [
    "# what is the conversion rate for P_old under the null?\n",
    "df2.query('converted == 1').shape[0]/df2.shape[0]"
   ]
  },
  {
   "cell_type": "code",
   "execution_count": 66,
   "id": "946070c6",
   "metadata": {},
   "outputs": [
    {
     "data": {
      "text/plain": [
       "user_id         145310\n",
       "timestamp       145310\n",
       "group                1\n",
       "landing_page         1\n",
       "converted            2\n",
       "dtype: int64"
      ]
     },
     "execution_count": 66,
     "metadata": {},
     "output_type": "execute_result"
    }
   ],
   "source": [
    "# what is n_new the number of individuals in the treatment group?\n",
    "df2.query('landing_page == \"new_page\"').nunique()"
   ]
  },
  {
   "cell_type": "code",
   "execution_count": 67,
   "id": "2aab36a8",
   "metadata": {},
   "outputs": [
    {
     "data": {
      "text/plain": [
       "145310"
      ]
     },
     "execution_count": 67,
     "metadata": {},
     "output_type": "execute_result"
    }
   ],
   "source": [
    "n_new = df2.query('landing_page == \"new_page\"')['user_id'].nunique()\n",
    "n_new"
   ]
  },
  {
   "cell_type": "code",
   "execution_count": 68,
   "id": "1fa356bf",
   "metadata": {},
   "outputs": [
    {
     "data": {
      "text/plain": [
       "user_id         145274\n",
       "timestamp       145274\n",
       "group                1\n",
       "landing_page         1\n",
       "converted            2\n",
       "dtype: int64"
      ]
     },
     "execution_count": 68,
     "metadata": {},
     "output_type": "execute_result"
    }
   ],
   "source": [
    "# what is n_old the number of individuals in the control group?\n",
    "df2.query('landing_page == \"old_page\"').nunique()"
   ]
  },
  {
   "cell_type": "code",
   "execution_count": 69,
   "id": "cc8997d9",
   "metadata": {},
   "outputs": [
    {
     "data": {
      "text/plain": [
       "145274"
      ]
     },
     "execution_count": 69,
     "metadata": {},
     "output_type": "execute_result"
    }
   ],
   "source": [
    "n_old = df2.query('landing_page == \"old_page\"')['user_id'].nunique()\n",
    "n_old"
   ]
  },
  {
   "cell_type": "code",
   "execution_count": 70,
   "id": "cd034064",
   "metadata": {},
   "outputs": [
    {
     "data": {
      "text/plain": [
       "(145310,)"
      ]
     },
     "execution_count": 70,
     "metadata": {},
     "output_type": "execute_result"
    }
   ],
   "source": [
    "# simulate n_new transaction with a conversion rate of p_new under null. Store these n_new 1's and 0's in the new_page_converted.\n",
    "new_page_converted = np.random.choice([0,1], n_new, p = (pNew, 1-pNew))\n",
    "new_page_converted.shape"
   ]
  },
  {
   "cell_type": "code",
   "execution_count": 71,
   "id": "14d05e3f",
   "metadata": {},
   "outputs": [
    {
     "data": {
      "text/plain": [
       "(145274,)"
      ]
     },
     "execution_count": 71,
     "metadata": {},
     "output_type": "execute_result"
    }
   ],
   "source": [
    "old_page_converted = np.random.choice([0,1], n_old, p = (pNew, 1-pNew))\n",
    "old_page_converted.shape"
   ]
  },
  {
   "cell_type": "code",
   "execution_count": 72,
   "id": "2238c7de",
   "metadata": {},
   "outputs": [
    {
     "data": {
      "text/plain": [
       "-0.0011404881138387113"
      ]
     },
     "execution_count": 72,
     "metadata": {},
     "output_type": "execute_result"
    }
   ],
   "source": [
    "# find p_new - p_old for your simulated values from part before\n",
    "new_page_converted.mean() - old_page_converted.mean()"
   ]
  },
  {
   "cell_type": "code",
   "execution_count": 73,
   "id": "b07d9e29",
   "metadata": {},
   "outputs": [],
   "source": [
    "def Simulate(nA, pA, nB, pB):\n",
    "    new_page_converted = np.random.choice([0,1], nA, p=(pA, 1-pA))\n",
    "    old_page_converted = np.random.choice([0,1], nB, p=(pB, 1-pB))\n",
    "    diff = new_page_converted.mean() - old_page_converted.mean()\n",
    "    return diff"
   ]
  },
  {
   "cell_type": "code",
   "execution_count": 74,
   "id": "72a2854b",
   "metadata": {},
   "outputs": [],
   "source": [
    "pdiff = []\n",
    "for _ in range(1000):\n",
    "    diff = Simulate(n_new, pNew, n_old, pOld)\n",
    "    pdiff.append(diff)"
   ]
  },
  {
   "cell_type": "code",
   "execution_count": 75,
   "id": "344976d6",
   "metadata": {},
   "outputs": [
    {
     "data": {
      "image/png": "[encoded data removed]",
      "text/plain": [
       "<Figure size 576x360 with 1 Axes>"
      ]
     },
     "metadata": {
      "needs_background": "light"
     },
     "output_type": "display_data"
    }
   ],
   "source": [
    "fig, ax = plt.subplots(figsize=(8,5))\n",
    "ax.hist(pdiff, bins=20, rwidth=.9);"
   ]
  },
  {
   "cell_type": "code",
   "execution_count": 76,
   "id": "3f83108b",
   "metadata": {},
   "outputs": [
    {
     "data": {
      "text/plain": [
       "0.11880806551510564"
      ]
     },
     "execution_count": 76,
     "metadata": {},
     "output_type": "execute_result"
    }
   ],
   "source": [
    "# what proportion of the p_diffs are greater than the actual difference observed in data\n",
    "obs_New = df2.query('landing_page == \"new_page\" & converted == 1').shape[0]/ \\\n",
    "df2.query('landing_page == \"new_page\"').shape[0]\n",
    "obs_New"
   ]
  },
  {
   "cell_type": "code",
   "execution_count": 77,
   "id": "1b1c48e4",
   "metadata": {},
   "outputs": [
    {
     "data": {
      "text/plain": [
       "0.1203863045004612"
      ]
     },
     "execution_count": 77,
     "metadata": {},
     "output_type": "execute_result"
    }
   ],
   "source": [
    "obs_Old = df2.query('landing_page == \"old_page\" & converted == 1').shape[0]/ \\\n",
    "df2.query('landing_page == \"old_page\"').shape[0]\n",
    "obs_Old"
   ]
  },
  {
   "cell_type": "code",
   "execution_count": 78,
   "id": "0a6a7092",
   "metadata": {},
   "outputs": [
    {
     "data": {
      "text/plain": [
       "-0.0015782389853555567"
      ]
     },
     "execution_count": 78,
     "metadata": {},
     "output_type": "execute_result"
    }
   ],
   "source": [
    "obs_diff = obs_New - obs_Old\n",
    "obs_diff"
   ]
  },
  {
   "cell_type": "code",
   "execution_count": 79,
   "id": "fbe018ab",
   "metadata": {
    "scrolled": true
   },
   "outputs": [
    {
     "data": {
      "image/png": "[encoded data removed]",
      "text/plain": [
       "<Figure size 576x360 with 1 Axes>"
      ]
     },
     "metadata": {
      "needs_background": "light"
     },
     "output_type": "display_data"
    }
   ],
   "source": [
    "plt.figure(figsize=(8,5))\n",
    "plt.hist(pdiff, bins=20, rwidth=.9);\n",
    "plt.axvline(obs_diff, c='r');\n",
    "plt.xlabel('Difference between pNew and pOld');\n",
    "plt.ylabel('Frequancy');"
   ]
  },
  {
   "cell_type": "code",
   "execution_count": 80,
   "id": "8790f57b",
   "metadata": {},
   "outputs": [
    {
     "data": {
      "text/plain": [
       "0.902"
      ]
     },
     "execution_count": 80,
     "metadata": {},
     "output_type": "execute_result"
    }
   ],
   "source": [
    "# p-value\n",
    "np.mean([diff > obs_diff for diff in pdiff])"
   ]
  },
  {
   "cell_type": "code",
   "execution_count": 81,
   "id": "7bd4bde6",
   "metadata": {},
   "outputs": [
    {
     "data": {
      "text/plain": [
       "17264"
      ]
     },
     "execution_count": 81,
     "metadata": {},
     "output_type": "execute_result"
    }
   ],
   "source": [
    "# conversion times for new page\n",
    "convert_new = df2.query('landing_page == \"new_page\" & converted == 1')['user_id'].nunique()\n",
    "convert_new"
   ]
  },
  {
   "cell_type": "code",
   "execution_count": 82,
   "id": "8dff9604",
   "metadata": {},
   "outputs": [
    {
     "data": {
      "text/plain": [
       "17489"
      ]
     },
     "execution_count": 82,
     "metadata": {},
     "output_type": "execute_result"
    }
   ],
   "source": [
    "# conversion times for old page\n",
    "convert_old = df2.query('landing_page == \"old_page\" & converted == 1')['user_id'].nunique()\n",
    "convert_old"
   ]
  },
  {
   "cell_type": "code",
   "execution_count": 83,
   "id": "7193c56a",
   "metadata": {},
   "outputs": [],
   "source": [
    "# use stats.proportions_ztest to test statistic and p-value\n",
    "import statsmodels.api as sm\n",
    "z_score, p_value = sm.stats.proportions_ztest(np.array([convert_new, convert_old]), \n",
    "                                              np.array([n_new,n_old]), \n",
    "                                              alternative='larger')"
   ]
  },
  {
   "cell_type": "code",
   "execution_count": 84,
   "id": "06326adc",
   "metadata": {},
   "outputs": [
    {
     "name": "stdout",
     "output_type": "stream",
     "text": [
      "z_score =  -1.3109241984234394\n",
      "p-value =  0.9050583127590245\n"
     ]
    }
   ],
   "source": [
    "print('z_score = ', z_score)\n",
    "print('p-value = ', p_value)"
   ]
  },
  {
   "cell_type": "code",
   "execution_count": 85,
   "id": "0e1bc226",
   "metadata": {},
   "outputs": [
    {
     "data": {
      "text/plain": [
       "1.959963984540054"
      ]
     },
     "execution_count": 85,
     "metadata": {},
     "output_type": "execute_result"
    }
   ],
   "source": [
    "# standard of 95% \n",
    "from scipy.stats import norm\n",
    "norm.ppf(1-(0.05/2))"
   ]
  }
 ],
 "metadata": {
  "kernelspec": {
   "display_name": "Python 3",
   "language": "python",
   "name": "python3"
  },
  "language_info": {
   "codemirror_mode": {
    "name": "ipython",
    "version": 3
   },
   "file_extension": ".py",
   "mimetype": "text/x-python",
   "name": "python",
   "nbconvert_exporter": "python",
   "pygments_lexer": "ipython3",
   "version": "3.8.8"
  }
 },
 "nbformat": 4,
 "nbformat_minor": 5
}
